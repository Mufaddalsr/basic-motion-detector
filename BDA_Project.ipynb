{
  "nbformat": 4,
  "nbformat_minor": 0,
  "metadata": {
    "colab": {
      "name": "BDA-Project.ipynb",
      "provenance": [],
      "authorship_tag": "ABX9TyNABItYGc7Ljce1BCQ9Lh00",
      "include_colab_link": true
    },
    "kernelspec": {
      "name": "python3",
      "display_name": "Python 3"
    },
    "language_info": {
      "name": "python"
    }
  },
  "cells": [
    {
      "cell_type": "markdown",
      "metadata": {
        "id": "view-in-github",
        "colab_type": "text"
      },
      "source": [
        "<a href=\"https://colab.research.google.com/github/Mufaddalsr/basic-motion-detector/blob/main/BDA_Project.ipynb\" target=\"_parent\"><img src=\"https://colab.research.google.com/assets/colab-badge.svg\" alt=\"Open In Colab\"/></a>"
      ]
    },
    {
      "cell_type": "code",
      "execution_count": 1,
      "metadata": {
        "colab": {
          "base_uri": "https://localhost:8080/"
        },
        "id": "GwCtc8QEumQz",
        "outputId": "be32dc8f-3fcc-4195-e0ae-d4607e3fe384"
      },
      "outputs": [
        {
          "output_type": "stream",
          "name": "stdout",
          "text": [
            "Looking in indexes: https://pypi.org/simple, https://us-python.pkg.dev/colab-wheels/public/simple/\n",
            "Collecting pyspark\n",
            "  Downloading pyspark-3.2.1.tar.gz (281.4 MB)\n",
            "\u001b[K     |████████████████████████████████| 281.4 MB 34 kB/s \n",
            "\u001b[?25hCollecting py4j==0.10.9.3\n",
            "  Downloading py4j-0.10.9.3-py2.py3-none-any.whl (198 kB)\n",
            "\u001b[K     |████████████████████████████████| 198 kB 62.6 MB/s \n",
            "\u001b[?25hBuilding wheels for collected packages: pyspark\n",
            "  Building wheel for pyspark (setup.py) ... \u001b[?25l\u001b[?25hdone\n",
            "  Created wheel for pyspark: filename=pyspark-3.2.1-py2.py3-none-any.whl size=281853642 sha256=8e155c6a06bf58b5134694614a56bb802ba8c8f80f530156139f1ccbd2f9c435\n",
            "  Stored in directory: /root/.cache/pip/wheels/9f/f5/07/7cd8017084dce4e93e84e92efd1e1d5334db05f2e83bcef74f\n",
            "Successfully built pyspark\n",
            "Installing collected packages: py4j, pyspark\n",
            "Successfully installed py4j-0.10.9.3 pyspark-3.2.1\n"
          ]
        }
      ],
      "source": [
        "!pip install pyspark"
      ]
    },
    {
      "cell_type": "code",
      "source": [
        "import pyspark"
      ],
      "metadata": {
        "id": "syDh_RVbvK_t"
      },
      "execution_count": 2,
      "outputs": []
    },
    {
      "cell_type": "code",
      "source": [
        "import pandas as pd"
      ],
      "metadata": {
        "id": "RRAd1sqRvNEM"
      },
      "execution_count": 3,
      "outputs": []
    },
    {
      "cell_type": "code",
      "source": [
        "from pyspark.sql import SparkSession"
      ],
      "metadata": {
        "id": "PwCx5zY5vQez"
      },
      "execution_count": 4,
      "outputs": []
    },
    {
      "cell_type": "code",
      "source": [
        "spark=SparkSession.builder.appName('bda').getOrCreate()"
      ],
      "metadata": {
        "id": "7AuWGvRzv3sH"
      },
      "execution_count": 6,
      "outputs": []
    },
    {
      "cell_type": "code",
      "source": [
        "spark"
      ],
      "metadata": {
        "colab": {
          "base_uri": "https://localhost:8080/",
          "height": 221
        },
        "id": "fwDgzkN6wUgt",
        "outputId": "c2c912e6-da78-436b-f1c3-c2d1f0679b91"
      },
      "execution_count": 7,
      "outputs": [
        {
          "output_type": "execute_result",
          "data": {
            "text/plain": [
              "<pyspark.sql.session.SparkSession at 0x7fc7294c1e50>"
            ],
            "text/html": [
              "\n",
              "            <div>\n",
              "                <p><b>SparkSession - in-memory</b></p>\n",
              "                \n",
              "        <div>\n",
              "            <p><b>SparkContext</b></p>\n",
              "\n",
              "            <p><a href=\"http://b4d788c34946:4040\">Spark UI</a></p>\n",
              "\n",
              "            <dl>\n",
              "              <dt>Version</dt>\n",
              "                <dd><code>v3.2.1</code></dd>\n",
              "              <dt>Master</dt>\n",
              "                <dd><code>local[*]</code></dd>\n",
              "              <dt>AppName</dt>\n",
              "                <dd><code>bda</code></dd>\n",
              "            </dl>\n",
              "        </div>\n",
              "        \n",
              "            </div>\n",
              "        "
            ]
          },
          "metadata": {},
          "execution_count": 7
        }
      ]
    },
    {
      "cell_type": "code",
      "source": [
        "df_pyspark=spark.read.csv('/content/surgery.csv')"
      ],
      "metadata": {
        "id": "gUov_NpkwnRO"
      },
      "execution_count": 11,
      "outputs": []
    },
    {
      "cell_type": "code",
      "source": [
        "df_pyspark=spark.read.option('header','true').csv('/content/surgery.csv',inferSchema=True)"
      ],
      "metadata": {
        "id": "MGgQQWkIyRKv"
      },
      "execution_count": 20,
      "outputs": []
    },
    {
      "cell_type": "code",
      "source": [
        "df_pyspark.show()"
      ],
      "metadata": {
        "colab": {
          "base_uri": "https://localhost:8080/"
        },
        "id": "jxhXvaq4xYhX",
        "outputId": "10e86b9a-0e00-4acf-d3dc-bc348aa98e21"
      },
      "execution_count": 21,
      "outputs": [
        {
          "output_type": "stream",
          "name": "stdout",
          "text": [
            "+--------------------+---+------+----+-----+--------+---------+-------+----------+----------+-----------+-----+\n",
            "|                Name|Age|   Sex|  Hb|  Hct|Systolic|Diastolic|    WBC|plateletes|Creatinine|T Proteins | SGOT|\n",
            "+--------------------+---+------+----+-----+--------+---------+-------+----------+----------+-----------+-----+\n",
            "|       Gaurav Chawla| 51|  Male|11.5|356.0|     128|       61|13200.0|     321.0|       0.5|       6.92| 33.0|\n",
            "|      Manohar Bhoota| 42|  Male|10.2|321.0|     120|       66|19990.0|     310.0|       0.9|        6.8| 45.0|\n",
            "|               Pinki| 40|Female|11.9| 69.5|     119|       72|   6.92|     274.0|       0.5|        6.8| 20.0|\n",
            "|            Kesh Raj| 13|  Male|13.2| 39.1|     131|       84|    5.9|     219.0|      0.76|       6.92| 33.0|\n",
            "|               Payal| 17|Female|14.0| 43.0|     119|       90| 5800.0|      1.81|      0.69|        7.5| 24.0|\n",
            "|   Indrajeet Kashyap| 45|  Male|14.4|36.17|     130|       80|   4.24|      1.12|       0.5|       7.08| 79.0|\n",
            "|             Gayatri| 64|Female|11.4| 69.5|     177|      112| 4570.0|      1.53|      0.74|        7.6| 44.0|\n",
            "|              Sunita| 23|Female| 9.6| 31.3|     112|       78|   9.28|     314.0|      0.59|        7.1|162.3|\n",
            "|Surat Chandra Upa...| 59|  Male|12.4| 39.8|     140|       90|   7.29|     265.0|      0.45|       6.92| 43.0|\n",
            "|        Rama Bhutani| 62|Female| 9.0| 28.1|     131|       84|   6.52|      2.14|      0.47|       6.62| 20.0|\n",
            "|              Sushma| 58|Female|11.4|36.17|     140|       80|   4.24|      1.12|       0.5|       7.08| 79.0|\n",
            "|           Indu Devi| 54|Female|12.0| 43.4|     130|       70| 7200.0|      0.54|      0.54|       14.7| 40.0|\n",
            "|               Manoj| 45|  Male|13.4| 69.5|     134|       83|    8.2|     164.0|       0.6|        7.9| 50.0|\n",
            "|               Swati| 40|Female|13.0| 45.6|     115|       94|   6.64|     327.0|      0.66|       6.89| 31.0|\n",
            "|         Chirag Suri| 39|  Male|12.2| 69.5|     131|       84| 3274.0|     786.0|      0.76|       6.92| 33.0|\n",
            "|              Sujata| 57|Female|11.9| 69.5|     135|       86|   9.12|     257.0|       0.7|        7.3| 19.0|\n",
            "|           Indu Devi| 35|Female|13.1| 69.5|     130|       80| 6760.0|      2.43|      0.65|        7.3| 28.0|\n",
            "|          Priya Devi| 42|Female|12.7| 17.9|     117|       88|    8.4|      1.01|       0.6|        7.4| 40.0|\n",
            "|             Shabana| 36|Female|10.9| 34.9|     138|       84|   4.14|       0.7|       0.6|       7.41| 17.0|\n",
            "|              Sanjay| 40|  Male|14.0| 47.0|     129|       87|    2.7|      2.06|      0.72|        7.4| 66.0|\n",
            "+--------------------+---+------+----+-----+--------+---------+-------+----------+----------+-----------+-----+\n",
            "only showing top 20 rows\n",
            "\n"
          ]
        }
      ]
    },
    {
      "cell_type": "code",
      "source": [
        "df_pyspark.head(5) "
      ],
      "metadata": {
        "colab": {
          "base_uri": "https://localhost:8080/"
        },
        "id": "3ZNN3UzWx5EM",
        "outputId": "ec400819-6d0f-4d1a-8eb3-e969a5f22ec2"
      },
      "execution_count": 22,
      "outputs": [
        {
          "output_type": "execute_result",
          "data": {
            "text/plain": [
              "[Row(Name='Gaurav Chawla', Age=51, Sex='Male', Hb=11.5, Hct=356.0, Systolic=128, Diastolic=61, WBC=13200.0, plateletes=321.0, Creatinine=0.5, T Proteins =6.92, SGOT=33.0),\n",
              " Row(Name='Manohar Bhoota', Age=42, Sex='Male', Hb=10.2, Hct=321.0, Systolic=120, Diastolic=66, WBC=19990.0, plateletes=310.0, Creatinine=0.9, T Proteins =6.8, SGOT=45.0),\n",
              " Row(Name='Pinki', Age=40, Sex='Female', Hb=11.9, Hct=69.5, Systolic=119, Diastolic=72, WBC=6.92, plateletes=274.0, Creatinine=0.5, T Proteins =6.8, SGOT=20.0),\n",
              " Row(Name='Kesh Raj', Age=13, Sex='Male', Hb=13.2, Hct=39.1, Systolic=131, Diastolic=84, WBC=5.9, plateletes=219.0, Creatinine=0.76, T Proteins =6.92, SGOT=33.0),\n",
              " Row(Name='Payal', Age=17, Sex='Female', Hb=14.0, Hct=43.0, Systolic=119, Diastolic=90, WBC=5800.0, plateletes=1.81, Creatinine=0.69, T Proteins =7.5, SGOT=24.0)]"
            ]
          },
          "metadata": {},
          "execution_count": 22
        }
      ]
    },
    {
      "cell_type": "code",
      "source": [
        "df_pyspark.printSchema()"
      ],
      "metadata": {
        "colab": {
          "base_uri": "https://localhost:8080/"
        },
        "id": "o32ukqk5yuAO",
        "outputId": "d46e1be6-2b13-47c3-ff1e-b8275c8be05f"
      },
      "execution_count": 23,
      "outputs": [
        {
          "output_type": "stream",
          "name": "stdout",
          "text": [
            "root\n",
            " |-- Name: string (nullable = true)\n",
            " |-- Age: integer (nullable = true)\n",
            " |-- Sex: string (nullable = true)\n",
            " |-- Hb: double (nullable = true)\n",
            " |-- Hct: double (nullable = true)\n",
            " |-- Systolic: integer (nullable = true)\n",
            " |-- Diastolic: integer (nullable = true)\n",
            " |-- WBC: double (nullable = true)\n",
            " |-- plateletes: double (nullable = true)\n",
            " |-- Creatinine: double (nullable = true)\n",
            " |-- T Proteins : double (nullable = true)\n",
            " |-- SGOT: double (nullable = true)\n",
            "\n"
          ]
        }
      ]
    },
    {
      "cell_type": "code",
      "source": [
        "df_pyspark.na.drop().show()"
      ],
      "metadata": {
        "colab": {
          "base_uri": "https://localhost:8080/"
        },
        "id": "zaYBoZv6yyt8",
        "outputId": "de15c68e-9850-47be-9797-abaeba67aaa6"
      },
      "execution_count": 24,
      "outputs": [
        {
          "output_type": "stream",
          "name": "stdout",
          "text": [
            "+--------------------+---+------+----+-----+--------+---------+-------+----------+----------+-----------+-----+\n",
            "|                Name|Age|   Sex|  Hb|  Hct|Systolic|Diastolic|    WBC|plateletes|Creatinine|T Proteins | SGOT|\n",
            "+--------------------+---+------+----+-----+--------+---------+-------+----------+----------+-----------+-----+\n",
            "|       Gaurav Chawla| 51|  Male|11.5|356.0|     128|       61|13200.0|     321.0|       0.5|       6.92| 33.0|\n",
            "|      Manohar Bhoota| 42|  Male|10.2|321.0|     120|       66|19990.0|     310.0|       0.9|        6.8| 45.0|\n",
            "|               Pinki| 40|Female|11.9| 69.5|     119|       72|   6.92|     274.0|       0.5|        6.8| 20.0|\n",
            "|            Kesh Raj| 13|  Male|13.2| 39.1|     131|       84|    5.9|     219.0|      0.76|       6.92| 33.0|\n",
            "|               Payal| 17|Female|14.0| 43.0|     119|       90| 5800.0|      1.81|      0.69|        7.5| 24.0|\n",
            "|   Indrajeet Kashyap| 45|  Male|14.4|36.17|     130|       80|   4.24|      1.12|       0.5|       7.08| 79.0|\n",
            "|             Gayatri| 64|Female|11.4| 69.5|     177|      112| 4570.0|      1.53|      0.74|        7.6| 44.0|\n",
            "|              Sunita| 23|Female| 9.6| 31.3|     112|       78|   9.28|     314.0|      0.59|        7.1|162.3|\n",
            "|Surat Chandra Upa...| 59|  Male|12.4| 39.8|     140|       90|   7.29|     265.0|      0.45|       6.92| 43.0|\n",
            "|        Rama Bhutani| 62|Female| 9.0| 28.1|     131|       84|   6.52|      2.14|      0.47|       6.62| 20.0|\n",
            "|              Sushma| 58|Female|11.4|36.17|     140|       80|   4.24|      1.12|       0.5|       7.08| 79.0|\n",
            "|           Indu Devi| 54|Female|12.0| 43.4|     130|       70| 7200.0|      0.54|      0.54|       14.7| 40.0|\n",
            "|               Manoj| 45|  Male|13.4| 69.5|     134|       83|    8.2|     164.0|       0.6|        7.9| 50.0|\n",
            "|               Swati| 40|Female|13.0| 45.6|     115|       94|   6.64|     327.0|      0.66|       6.89| 31.0|\n",
            "|         Chirag Suri| 39|  Male|12.2| 69.5|     131|       84| 3274.0|     786.0|      0.76|       6.92| 33.0|\n",
            "|              Sujata| 57|Female|11.9| 69.5|     135|       86|   9.12|     257.0|       0.7|        7.3| 19.0|\n",
            "|           Indu Devi| 35|Female|13.1| 69.5|     130|       80| 6760.0|      2.43|      0.65|        7.3| 28.0|\n",
            "|          Priya Devi| 42|Female|12.7| 17.9|     117|       88|    8.4|      1.01|       0.6|        7.4| 40.0|\n",
            "|             Shabana| 36|Female|10.9| 34.9|     138|       84|   4.14|       0.7|       0.6|       7.41| 17.0|\n",
            "|              Sanjay| 40|  Male|14.0| 47.0|     129|       87|    2.7|      2.06|      0.72|        7.4| 66.0|\n",
            "+--------------------+---+------+----+-----+--------+---------+-------+----------+----------+-----------+-----+\n",
            "only showing top 20 rows\n",
            "\n"
          ]
        }
      ]
    },
    {
      "cell_type": "code",
      "source": [
        ""
      ],
      "metadata": {
        "id": "fHxH1lVj68dO"
      },
      "execution_count": null,
      "outputs": []
    }
  ]
}